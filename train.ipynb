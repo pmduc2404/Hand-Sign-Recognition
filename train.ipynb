{
 "cells": [
  {
   "cell_type": "markdown",
   "metadata": {},
   "source": [
    "# Importing libraries"
   ]
  },
  {
   "cell_type": "code",
   "execution_count": 34,
   "metadata": {},
   "outputs": [],
   "source": [
    "import numpy as np\n",
    "import matplotlib.pyplot as plt\n",
    "from keras.preprocessing.image import ImageDataGenerator, array_to_img,img_to_array,load_img\n",
    "import keras\n",
    "from keras import Sequential\n",
    "from keras.layers import Conv2D,MaxPooling2D,Flatten,Dense,Activation,Dropout\n",
    "from keras.layers import LeakyReLU"
   ]
  },
  {
   "cell_type": "markdown",
   "metadata": {},
   "source": [
    "# Import dataset và thực hiện chuẩn hóa"
   ]
  },
  {
   "cell_type": "code",
   "execution_count": 35,
   "metadata": {},
   "outputs": [
    {
     "name": "stdout",
     "output_type": "stream",
     "text": [
      "Found 13500 images belonging to 20 classes.\n",
      "Found 4500 images belonging to 20 classes.\n"
     ]
    }
   ],
   "source": [
    "train_path = 'Dataset/train/train'\n",
    "train_datagen = ImageDataGenerator(rescale=1./255,rotation_range = 4,\n",
    "                                   width_shift_range=0.15,\n",
    "                                   height_shift_range = 0.2,\n",
    "                                   shear_range=0.3,\n",
    "                                   fill_mode='nearest',\n",
    "                                   validation_split=0.25)\n",
    "\n",
    "train_set = train_datagen.flow_from_directory(directory=train_path, class_mode='categorical',\n",
    "                                                    color_mode = 'grayscale',\n",
    "                                                    target_size=(64,64), batch_size=128, shuffle=True,\n",
    "                                                    subset =\"training\")\n",
    "\n",
    "validation_set = train_datagen.flow_from_directory(directory=train_path,\n",
    "                                                 target_size = (64,64),\n",
    "                                                 batch_size = 64,\n",
    "                                                 class_mode = 'categorical',\n",
    "                                                 color_mode = 'grayscale',subset=\"validation\",shuffle=True)"
   ]
  },
  {
   "cell_type": "code",
   "execution_count": 36,
   "metadata": {},
   "outputs": [
    {
     "name": "stdout",
     "output_type": "stream",
     "text": [
      "{'0': 0, '1': 1, '10': 2, '11': 3, '12': 4, '13': 5, '14': 6, '15': 7, '16': 8, '17': 9, '18': 10, '19': 11, '2': 12, '3': 13, '4': 14, '5': 15, '6': 16, '7': 17, '8': 18, '9': 19}\n"
     ]
    }
   ],
   "source": [
    "print(train_set.class_indices)"
   ]
  },
  {
   "cell_type": "markdown",
   "metadata": {},
   "source": [
    "# Xây dựng mô hình"
   ]
  },
  {
   "cell_type": "code",
   "execution_count": 37,
   "metadata": {},
   "outputs": [],
   "source": [
    "def make_model():\n",
    "    model = Sequential()\n",
    "    model.add(Conv2D(32,input_shape=(64,64,1),kernel_size=(3,3),strides=(1,1),activation='relu'))\n",
    "    \n",
    "    model.add(Conv2D(64,kernel_size=(3,3),strides=(2,2),activation='relu'))\n",
    "    \n",
    "    model.add(MaxPooling2D(pool_size=(2,2)))\n",
    "    model.add(Dropout(0.15))\n",
    "    \n",
    "\n",
    "    model.add(Conv2D(64,kernel_size=(3,3),strides=(2,2),activation='relu'))\n",
    "\n",
    "    model.add(Conv2D(128,kernel_size=(3,3),strides=(1,1),activation='relu'))\n",
    "    \n",
    "    model.add(MaxPooling2D(pool_size=(2,2)))\n",
    "    \n",
    "    model.add(Dropout(0.25))\n",
    "    \n",
    "    model.add(Flatten())\n",
    "    \n",
    "    model.add(Dense(64,activation='relu'))\n",
    "    model.add(Dense(32,activation='relu'))\n",
    "    model.add(Dense(20,activation='softmax'))\n",
    " \n",
    "    \n",
    "    model.compile(\n",
    "          loss = 'categorical_crossentropy',\n",
    "          optimizer = 'Adam',metrics = ['accuracy']\n",
    "                )\n",
    "    return model "
   ]
  },
  {
   "cell_type": "code",
   "execution_count": 38,
   "metadata": {},
   "outputs": [
    {
     "name": "stdout",
     "output_type": "stream",
     "text": [
      "Model: \"sequential_2\"\n",
      "_________________________________________________________________\n",
      " Layer (type)                Output Shape              Param #   \n",
      "=================================================================\n",
      " conv2d_8 (Conv2D)           (None, 62, 62, 32)        320       \n",
      "                                                                 \n",
      " conv2d_9 (Conv2D)           (None, 30, 30, 64)        18496     \n",
      "                                                                 \n",
      " max_pooling2d_4 (MaxPoolin  (None, 15, 15, 64)        0         \n",
      " g2D)                                                            \n",
      "                                                                 \n",
      " dropout_4 (Dropout)         (None, 15, 15, 64)        0         \n",
      "                                                                 \n",
      " conv2d_10 (Conv2D)          (None, 7, 7, 64)          36928     \n",
      "                                                                 \n",
      " conv2d_11 (Conv2D)          (None, 5, 5, 128)         73856     \n",
      "                                                                 \n",
      " max_pooling2d_5 (MaxPoolin  (None, 2, 2, 128)         0         \n",
      " g2D)                                                            \n",
      "                                                                 \n",
      " dropout_5 (Dropout)         (None, 2, 2, 128)         0         \n",
      "                                                                 \n",
      " flatten_2 (Flatten)         (None, 512)               0         \n",
      "                                                                 \n",
      " dense_6 (Dense)             (None, 64)                32832     \n",
      "                                                                 \n",
      " dense_7 (Dense)             (None, 32)                2080      \n",
      "                                                                 \n",
      " dense_8 (Dense)             (None, 20)                660       \n",
      "                                                                 \n",
      "=================================================================\n",
      "Total params: 165172 (645.20 KB)\n",
      "Trainable params: 165172 (645.20 KB)\n",
      "Non-trainable params: 0 (0.00 Byte)\n",
      "_________________________________________________________________\n"
     ]
    }
   ],
   "source": [
    "model = make_model()\n",
    "model.summary()"
   ]
  },
  {
   "cell_type": "markdown",
   "metadata": {},
   "source": [
    "# Training the model"
   ]
  },
  {
   "cell_type": "code",
   "execution_count": 39,
   "metadata": {},
   "outputs": [
    {
     "name": "stdout",
     "output_type": "stream",
     "text": [
      "Epoch 1/20\n",
      "64/64 [==============================] - 13s 193ms/step - loss: 2.5381 - accuracy: 0.2027 - val_loss: 1.3371 - val_accuracy: 0.5573\n",
      "Epoch 2/20\n"
     ]
    },
    {
     "name": "stderr",
     "output_type": "stream",
     "text": [
      "c:\\Users\\user\\AppData\\Local\\Programs\\Python\\Python311\\Lib\\site-packages\\keras\\src\\engine\\training.py:3103: UserWarning: You are saving your model as an HDF5 file via `model.save()`. This file format is considered legacy. We recommend using instead the native Keras format, e.g. `model.save('my_model.keras')`.\n",
      "  saving_api.save_model(\n"
     ]
    },
    {
     "name": "stdout",
     "output_type": "stream",
     "text": [
      "64/64 [==============================] - 11s 171ms/step - loss: 0.7801 - accuracy: 0.7349 - val_loss: 0.3379 - val_accuracy: 0.8822\n",
      "Epoch 3/20\n",
      "64/64 [==============================] - 14s 212ms/step - loss: 0.2592 - accuracy: 0.9136 - val_loss: 0.1721 - val_accuracy: 0.9453\n",
      "Epoch 4/20\n",
      "64/64 [==============================] - 13s 201ms/step - loss: 0.1674 - accuracy: 0.9450 - val_loss: 0.1289 - val_accuracy: 0.9652\n",
      "Epoch 5/20\n",
      "64/64 [==============================] - 13s 200ms/step - loss: 0.1055 - accuracy: 0.9631 - val_loss: 0.0833 - val_accuracy: 0.9688\n",
      "Epoch 6/20\n",
      "64/64 [==============================] - 14s 216ms/step - loss: 0.0708 - accuracy: 0.9764 - val_loss: 0.0776 - val_accuracy: 0.9743\n",
      "Epoch 7/20\n",
      "64/64 [==============================] - 20s 317ms/step - loss: 0.0687 - accuracy: 0.9769 - val_loss: 0.0545 - val_accuracy: 0.9831\n",
      "Epoch 8/20\n",
      "64/64 [==============================] - 17s 263ms/step - loss: 0.0493 - accuracy: 0.9838 - val_loss: 0.0936 - val_accuracy: 0.9714\n",
      "Epoch 9/20\n",
      "64/64 [==============================] - 14s 225ms/step - loss: 0.0571 - accuracy: 0.9796 - val_loss: 0.0671 - val_accuracy: 0.9743\n",
      "Epoch 10/20\n",
      "64/64 [==============================] - 17s 270ms/step - loss: 0.0403 - accuracy: 0.9875 - val_loss: 0.0460 - val_accuracy: 0.9850\n",
      "Epoch 11/20\n",
      "64/64 [==============================] - 19s 296ms/step - loss: 0.0349 - accuracy: 0.9871 - val_loss: 0.0578 - val_accuracy: 0.9834\n",
      "Epoch 12/20\n",
      "64/64 [==============================] - 18s 286ms/step - loss: 0.0284 - accuracy: 0.9912 - val_loss: 0.0600 - val_accuracy: 0.9821\n",
      "Epoch 13/20\n",
      "64/64 [==============================] - 21s 330ms/step - loss: 0.0275 - accuracy: 0.9911 - val_loss: 0.0299 - val_accuracy: 0.9906\n",
      "Epoch 14/20\n",
      "64/64 [==============================] - 24s 381ms/step - loss: 0.0261 - accuracy: 0.9908 - val_loss: 0.0318 - val_accuracy: 0.9886\n",
      "Epoch 15/20\n",
      "64/64 [==============================] - 19s 288ms/step - loss: 0.0230 - accuracy: 0.9922 - val_loss: 0.0393 - val_accuracy: 0.9876\n",
      "Epoch 16/20\n",
      "64/64 [==============================] - 22s 338ms/step - loss: 0.0271 - accuracy: 0.9911 - val_loss: 0.0415 - val_accuracy: 0.9893\n"
     ]
    }
   ],
   "source": [
    "h = model.fit(\n",
    "      train_set,validation_data = validation_set,\n",
    "                              epochs=20,steps_per_epoch = 64,validation_steps = 48,\n",
    "                              callbacks = [\n",
    "                              keras.callbacks.EarlyStopping(monitor='val_loss',patience=3,mode='auto'),\n",
    "                              keras.callbacks.ModelCheckpoint('explo/model_{val_loss:.3f}.h5',\n",
    "                              save_best_only = True,save_weights_only=False,\n",
    "                              monitor='val_loss')\n",
    "                              ]\n",
    "\n",
    "\n",
    ")\n"
   ]
  },
  {
   "cell_type": "code",
   "execution_count": 40,
   "metadata": {},
   "outputs": [],
   "source": [
    "## Loading the saved model\n",
    "from keras.models import load_model\n",
    "model = load_model('model3.h5')"
   ]
  },
  {
   "cell_type": "code",
   "execution_count": 41,
   "metadata": {},
   "outputs": [
    {
     "data": {
      "image/png": "[encoded data removed]",
      "text/plain": [
       "<Figure size 640x480 with 1 Axes>"
      ]
     },
     "metadata": {},
     "output_type": "display_data"
    },
    {
     "data": {
      "image/png": "[encoded data removed]",
      "text/plain": [
       "<Figure size 640x480 with 1 Axes>"
      ]
     },
     "metadata": {},
     "output_type": "display_data"
    }
   ],
   "source": [
    "%matplotlib inline\n",
    "accu= h.history['accuracy']\n",
    "val_acc=h.history['val_accuracy']\n",
    "loss=h.history['loss']\n",
    "val_loss=h.history['val_loss']\n",
    "\n",
    "epochs=range(len(accu)) #No. of epochs\n",
    "\n",
    "import matplotlib.pyplot as plt\n",
    "plt.plot(epochs,accu,'r',label='Training Accuracy')\n",
    "plt.plot(epochs,val_acc,'g',label='Validation Accuracy')\n",
    "plt.legend()\n",
    "plt.xlabel('No. of epochs')\n",
    "plt.ylabel('Accuracy score')\n",
    "plt.figure()\n",
    "\n",
    "#Plot training and validation loss per epoch\n",
    "plt.plot(epochs,loss,'r',label='Training Loss')\n",
    "plt.plot(epochs,val_loss,'g',label='Validation Loss')\n",
    "plt.xlabel('No. of epochs')\n",
    "plt.ylabel('Loss score')\n",
    "plt.legend()\n",
    "plt.show()\n",
    "\t\t\n"
   ]
  },
  {
   "cell_type": "code",
   "execution_count": 42,
   "metadata": {},
   "outputs": [
    {
     "name": "stdout",
     "output_type": "stream",
     "text": [
      "Found 6000 images belonging to 20 classes.\n"
     ]
    }
   ],
   "source": [
    "test_path = \"Dataset/test/test\"\n",
    "test_datagen = ImageDataGenerator(rescale=1./255)\n",
    "test_set = test_datagen.flow_from_directory(directory=test_path, class_mode='categorical',\n",
    "                                                    color_mode = 'grayscale',\n",
    "                                                    target_size=(64,64), batch_size=128, shuffle=False)\n"
   ]
  },
  {
   "cell_type": "code",
   "execution_count": 43,
   "metadata": {},
   "outputs": [
    {
     "name": "stdout",
     "output_type": "stream",
     "text": [
      "47/47 [==============================] - 6s 119ms/step - loss: 3.3551e-04 - accuracy: 1.0000\n"
     ]
    }
   ],
   "source": [
    "test_evaluation_result = model.evaluate(test_set)"
   ]
  },
  {
   "cell_type": "code",
   "execution_count": 44,
   "metadata": {},
   "outputs": [
    {
     "name": "stdout",
     "output_type": "stream",
     "text": [
      "Test Loss: 0.0003355050866957754\n",
      "Test Accuracy: 1.0\n"
     ]
    }
   ],
   "source": [
    "print(\"Test Loss:\", test_evaluation_result[0])\n",
    "print(\"Test Accuracy:\", test_evaluation_result[1])"
   ]
  }
 ],
 "metadata": {
  "kernelspec": {
   "display_name": "Python 3",
   "language": "python",
   "name": "python3"
  },
  "language_info": {
   "codemirror_mode": {
    "name": "ipython",
    "version": 3
   },
   "file_extension": ".py",
   "mimetype": "text/x-python",
   "name": "python",
   "nbconvert_exporter": "python",
   "pygments_lexer": "ipython3",
   "version": "3.11.0"
  }
 },
 "nbformat": 4,
 "nbformat_minor": 4
}
